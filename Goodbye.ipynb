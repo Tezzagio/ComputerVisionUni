{
  "nbformat": 4,
  "nbformat_minor": 0,
  "metadata": {
    "colab": {
      "name": "Goodbye.ipynb",
      "provenance": [],
      "collapsed_sections": []
    },
    "kernelspec": {
      "name": "python3",
      "display_name": "Python 3"
    },
    "language_info": {
      "name": "python"
    }
  },
  "cells": [
    {
      "cell_type": "code",
      "metadata": {
        "id": "GYnurAc_RyXJ"
      },
      "source": [
        "print(\"Hello World\")\n",
        "print('Hello Terry Berry')\n",
        "a = 'I am a superhero at maths calculations!'\n",
        "print (a)\n",
        "b = ('How many seconds are there in a day?')\n",
        "print (b)\n",
        "c = 24 * 60 * 60\n",
        "print (c)\n",
        "d = ('How many seconds in a week')\n",
        "print (d)\n",
        "e = 7 * c\n",
        "print (e)\n",
        "f = ('How many seconds in a month')\n",
        "print (f)\n",
        "g = 4 * e\n",
        "print (g)\n",
        "h = ('How many seconds in a year')\n",
        "print (h)\n",
        "i = 52 * g\n",
        "print (i)\n",
        "print('Goodbye Terry Berry')\n"
      ],
      "execution_count": null,
      "outputs": []
    }
  ]
}