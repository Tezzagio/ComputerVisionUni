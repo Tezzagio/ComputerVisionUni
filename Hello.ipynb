{
  "nbformat": 4,
  "nbformat_minor": 0,
  "metadata": {
    "colab": {
      "name": "Hello.ipynb",
      "provenance": [],
      "collapsed_sections": []
    },
    "kernelspec": {
      "name": "python3",
      "display_name": "Python 3"
    },
    "language_info": {
      "name": "python"
    }
  },
  "cells": [
    {
      "cell_type": "code",
      "metadata": {
        "colab": {
          "base_uri": "https://localhost:8080/"
        },
        "id": "GYnurAc_RyXJ",
        "outputId": "f927910c-6739-44d8-b8f9-d8a3451f5978"
      },
      "source": [
        "print(\"Hello World\")\n",
        "print('Hello Terry Berry')\n",
        "a = 'I am a superhero!'\n",
        "print (a)\n",
        "x = 2.5\n",
        "print(type(x))\n",
        "print(x, x + 1, x / 1, x * 5, x ** 2)\n",
        "\n"
      ],
      "execution_count": 3,
      "outputs": [
        {
          "output_type": "stream",
          "name": "stdout",
          "text": [
            "Hello World\n",
            "Hello Terry Berry\n",
            "I am a superhero!\n",
            "<class 'float'>\n",
            "2.5 3.5 2.5 12.5 6.25\n"
          ]
        }
      ]
    }
  ]
}